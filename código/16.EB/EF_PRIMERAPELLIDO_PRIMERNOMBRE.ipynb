{
 "cells": [
  {
   "cell_type": "markdown",
   "metadata": {},
   "source": [
    "<h3 align=\"center\"><b>Examen Final </h3>\n",
    "<h3 align=\"center\">2025-1</h3>"
   ]
  },
  {
   "cell_type": "markdown",
   "metadata": {},
   "source": [
    "---\n",
    "\n",
    "**Apellidos y Nombres:**  \n",
    "\n",
    "**Código:**  \n",
    "\n",
    "---"
   ]
  },
  {
   "attachments": {},
   "cell_type": "markdown",
   "metadata": {},
   "source": [
    "\n",
    "# Caso Optimización de Campañas Publicitarias\n",
    "\n",
    "El objetivo principal de este caso es desarrollar un modelo capaz de predecir la probabilidad de que un usuario específico de Internet haga clic en un anuncio publicado en el sitio web de una empresa. Para alcanzar este propósito, se utilizará un enfoque de aprendizaje supervisado, específicamente mediante un modelo de regresión logística. Este modelo permitirá clasificar a los usuarios en función de si es probable o no que interactúen con la publicidad, basándose en un conjunto de características. A partir del entrenamiento del modelo con un conjunto de datos previamente etiquetado, se espera obtener una herramienta eficaz para la toma de decisiones en campañas de marketing digital y segmentación de audiencias.\n",
    "\n",
    "Este conjunto de datos contiene las siguientes características (variables independientes):\n",
    "\n",
    "* 'Daily Time Spent on Site': tiempo consumido en el sitio en minutos\n",
    "* 'Age': edad del cliente en años\n",
    "* 'Area Income': Promedio de ingresos del cliente segun área geográfica\n",
    "* 'Male': Si el consumidor es hombre o no\n",
    "* 'Timestamp': Hora a la que el consumidor hizo clic en el anuncio o cerro la ventana\n",
    "\n",
    "Este conjunto de datos tiene la siguiente variable objetivo (variable dependiente):\n",
    "\n",
    "* 'Clicked on Ad': 0 o 1 indica si hizo clic en el Anuncio"
   ]
  },
  {
   "cell_type": "markdown",
   "metadata": {},
   "source": [
    "## Importar Librerias\n",
    "\n",
    "**Importa algunas librerias que crees que necesitarás (¡o simplemente impórtalas sobre la marcha!)**"
   ]
  },
  {
   "cell_type": "code",
   "execution_count": 1,
   "metadata": {},
   "outputs": [],
   "source": []
  },
  {
   "cell_type": "markdown",
   "metadata": {
    "collapsed": true,
    "jupyter": {
     "outputs_hidden": true
    }
   },
   "source": [
    "## Obtener los datos\n",
    "**Lee el archivo advertising.csv y configúralo en un dataframe llamado data.**"
   ]
  },
  {
   "cell_type": "code",
   "execution_count": null,
   "metadata": {},
   "outputs": [],
   "source": []
  },
  {
   "cell_type": "markdown",
   "metadata": {},
   "source": [
    "**Verifica la cabecera de data.**"
   ]
  },
  {
   "cell_type": "code",
   "execution_count": null,
   "metadata": {},
   "outputs": [],
   "source": []
  },
  {
   "cell_type": "markdown",
   "metadata": {},
   "source": [
    "**Usa info en data.**"
   ]
  },
  {
   "cell_type": "code",
   "execution_count": null,
   "metadata": {},
   "outputs": [],
   "source": []
  },
  {
   "cell_type": "markdown",
   "metadata": {},
   "source": [
    "**Usa describe() en data.**"
   ]
  },
  {
   "cell_type": "code",
   "execution_count": null,
   "metadata": {},
   "outputs": [],
   "source": []
  },
  {
   "cell_type": "markdown",
   "metadata": {},
   "source": [
    "## **Ahora desarrolla tu solución**"
   ]
  },
  {
   "cell_type": "markdown",
   "metadata": {},
   "source": [
    "#### **1. ¿La base de datos está balanceada? Sustentar su respuesta. (1 punto)**"
   ]
  },
  {
   "cell_type": "code",
   "execution_count": null,
   "metadata": {},
   "outputs": [],
   "source": []
  },
  {
   "cell_type": "markdown",
   "metadata": {},
   "source": [
    " #### **2. Realizar un Heatmap entre las variables más adecuadas. ¿Cuáles son las conclusiones? (2 puntos)**"
   ]
  },
  {
   "cell_type": "code",
   "execution_count": null,
   "metadata": {},
   "outputs": [],
   "source": []
  },
  {
   "cell_type": "markdown",
   "metadata": {},
   "source": [
    "#### **3. Realizar un análisis de dependencia entre las variables independientes vs la variable dependiente. Usar un boxplot. ¿Cuáles son las conclusiones? (2 puntos)**"
   ]
  },
  {
   "cell_type": "code",
   "execution_count": null,
   "metadata": {},
   "outputs": [],
   "source": []
  },
  {
   "cell_type": "markdown",
   "metadata": {},
   "source": [
    "#### **4. Para la construcción del modelo de regresión más adecuado, teniendo en consideración que la variable dependiente es \"Clicked on Ad\", dividir la muestra en train (90%) y test (10%). (1 punto)**"
   ]
  },
  {
   "cell_type": "code",
   "execution_count": null,
   "metadata": {},
   "outputs": [],
   "source": []
  },
  {
   "cell_type": "markdown",
   "metadata": {},
   "source": [
    "#### **5. Construir los siguientes modelos de regresión más adecuados. (2 puntos)**\n",
    "\n",
    "##### Modelo 1: Clicked on Ad vs Daily Time Spent on Site, Age, Area Income, Daily Internet Usage\n",
    "##### Modelo 2: Clicked on Ad vs Daily Time Spent on Site, Daily Internet Usage\n",
    "##### Modelo 3: Clicked on Ad vs Age, Area Income"
   ]
  },
  {
   "cell_type": "code",
   "execution_count": 14,
   "metadata": {},
   "outputs": [],
   "source": []
  },
  {
   "cell_type": "markdown",
   "metadata": {},
   "source": [
    "#### **6. Con los modelos construidos en la pregunta 5, presentar un dataframe con los tres modelos (filas) versus los valores de precision, recall y F1-Score (columnas). ¿Cuáles son las conclusiones? (2 puntos)**"
   ]
  },
  {
   "cell_type": "code",
   "execution_count": 15,
   "metadata": {},
   "outputs": [],
   "source": []
  },
  {
   "cell_type": "markdown",
   "metadata": {},
   "source": [
    "## ¡Éxitos!"
   ]
  }
 ],
 "metadata": {
  "kernelspec": {
   "display_name": "Python 3 (ipykernel)",
   "language": "python",
   "name": "python3"
  },
  "language_info": {
   "codemirror_mode": {
    "name": "ipython",
    "version": 3
   },
   "file_extension": ".py",
   "mimetype": "text/x-python",
   "name": "python",
   "nbconvert_exporter": "python",
   "pygments_lexer": "ipython3",
   "version": "3.12.3"
  }
 },
 "nbformat": 4,
 "nbformat_minor": 4
}
